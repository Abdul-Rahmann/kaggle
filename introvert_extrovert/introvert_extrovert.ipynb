{
 "cells": [
  {
   "cell_type": "code",
   "id": "initial_id",
   "metadata": {
    "collapsed": true,
    "ExecuteTime": {
     "end_time": "2025-07-06T18:27:52.754785Z",
     "start_time": "2025-07-06T18:27:52.753069Z"
    }
   },
   "source": "import pandas as pd",
   "outputs": [],
   "execution_count": 1
  },
  {
   "metadata": {
    "ExecuteTime": {
     "end_time": "2025-07-06T18:28:08.665684Z",
     "start_time": "2025-07-06T18:28:08.634866Z"
    }
   },
   "cell_type": "code",
   "source": [
    "df = pd.read_csv('data/train.csv')\n",
    "df.head()"
   ],
   "id": "27e46b36b4b0ed47",
   "outputs": [
    {
     "data": {
      "text/plain": [
       "   id  Time_spent_Alone Stage_fear  Social_event_attendance  Going_outside  \\\n",
       "0   0               0.0         No                      6.0            4.0   \n",
       "1   1               1.0         No                      7.0            3.0   \n",
       "2   2               6.0        Yes                      1.0            0.0   \n",
       "3   3               3.0         No                      7.0            3.0   \n",
       "4   4               1.0         No                      4.0            4.0   \n",
       "\n",
       "  Drained_after_socializing  Friends_circle_size  Post_frequency Personality  \n",
       "0                        No                 15.0             5.0   Extrovert  \n",
       "1                        No                 10.0             8.0   Extrovert  \n",
       "2                       NaN                  3.0             0.0   Introvert  \n",
       "3                        No                 11.0             5.0   Extrovert  \n",
       "4                        No                 13.0             NaN   Extrovert  "
      ],
      "text/html": [
       "<div>\n",
       "<style scoped>\n",
       "    .dataframe tbody tr th:only-of-type {\n",
       "        vertical-align: middle;\n",
       "    }\n",
       "\n",
       "    .dataframe tbody tr th {\n",
       "        vertical-align: top;\n",
       "    }\n",
       "\n",
       "    .dataframe thead th {\n",
       "        text-align: right;\n",
       "    }\n",
       "</style>\n",
       "<table border=\"1\" class=\"dataframe\">\n",
       "  <thead>\n",
       "    <tr style=\"text-align: right;\">\n",
       "      <th></th>\n",
       "      <th>id</th>\n",
       "      <th>Time_spent_Alone</th>\n",
       "      <th>Stage_fear</th>\n",
       "      <th>Social_event_attendance</th>\n",
       "      <th>Going_outside</th>\n",
       "      <th>Drained_after_socializing</th>\n",
       "      <th>Friends_circle_size</th>\n",
       "      <th>Post_frequency</th>\n",
       "      <th>Personality</th>\n",
       "    </tr>\n",
       "  </thead>\n",
       "  <tbody>\n",
       "    <tr>\n",
       "      <th>0</th>\n",
       "      <td>0</td>\n",
       "      <td>0.0</td>\n",
       "      <td>No</td>\n",
       "      <td>6.0</td>\n",
       "      <td>4.0</td>\n",
       "      <td>No</td>\n",
       "      <td>15.0</td>\n",
       "      <td>5.0</td>\n",
       "      <td>Extrovert</td>\n",
       "    </tr>\n",
       "    <tr>\n",
       "      <th>1</th>\n",
       "      <td>1</td>\n",
       "      <td>1.0</td>\n",
       "      <td>No</td>\n",
       "      <td>7.0</td>\n",
       "      <td>3.0</td>\n",
       "      <td>No</td>\n",
       "      <td>10.0</td>\n",
       "      <td>8.0</td>\n",
       "      <td>Extrovert</td>\n",
       "    </tr>\n",
       "    <tr>\n",
       "      <th>2</th>\n",
       "      <td>2</td>\n",
       "      <td>6.0</td>\n",
       "      <td>Yes</td>\n",
       "      <td>1.0</td>\n",
       "      <td>0.0</td>\n",
       "      <td>NaN</td>\n",
       "      <td>3.0</td>\n",
       "      <td>0.0</td>\n",
       "      <td>Introvert</td>\n",
       "    </tr>\n",
       "    <tr>\n",
       "      <th>3</th>\n",
       "      <td>3</td>\n",
       "      <td>3.0</td>\n",
       "      <td>No</td>\n",
       "      <td>7.0</td>\n",
       "      <td>3.0</td>\n",
       "      <td>No</td>\n",
       "      <td>11.0</td>\n",
       "      <td>5.0</td>\n",
       "      <td>Extrovert</td>\n",
       "    </tr>\n",
       "    <tr>\n",
       "      <th>4</th>\n",
       "      <td>4</td>\n",
       "      <td>1.0</td>\n",
       "      <td>No</td>\n",
       "      <td>4.0</td>\n",
       "      <td>4.0</td>\n",
       "      <td>No</td>\n",
       "      <td>13.0</td>\n",
       "      <td>NaN</td>\n",
       "      <td>Extrovert</td>\n",
       "    </tr>\n",
       "  </tbody>\n",
       "</table>\n",
       "</div>"
      ]
     },
     "execution_count": 2,
     "metadata": {},
     "output_type": "execute_result"
    }
   ],
   "execution_count": 2
  },
  {
   "metadata": {
    "ExecuteTime": {
     "end_time": "2025-07-07T17:00:17.900098Z",
     "start_time": "2025-07-07T17:00:17.894498Z"
    }
   },
   "cell_type": "code",
   "source": [
    "import numpy as np\n",
    "np.linspace(0, 1, 10)\n",
    "np.arange(1,21,2)\n",
    "np.eye(3)\n",
    "np.random.rand(2,3)\n",
    "arr = np.random.randint(1,21, (5,5))\n",
    "arr[:, 2] = 1\n",
    "arr = np.random.randint(1,17, (4,4))\n",
    "arr1 = np.fill_diagonal(arr, 0)\n",
    "print(arr1)"
   ],
   "id": "fbf191af2388bf5a",
   "outputs": [
    {
     "name": "stdout",
     "output_type": "stream",
     "text": [
      "None\n"
     ]
    }
   ],
   "execution_count": 36
  },
  {
   "metadata": {
    "ExecuteTime": {
     "end_time": "2025-07-07T16:59:07.274202Z",
     "start_time": "2025-07-07T16:59:07.261503Z"
    }
   },
   "cell_type": "code",
   "source": [
    "import numpy as np\n",
    "\n",
    "# Create a 3x3 NumPy array\n",
    "arr = np.array([[1, 2, 3],\n",
    "                [4, 5, 6],\n",
    "                [7, 8, 9]])\n",
    "\n",
    "# Replace diagonal elements with a value (e.g., 0)\n",
    "np.fill_diagonal(arr, 0)\n",
    "\n",
    "print(arr)"
   ],
   "id": "355ffb5c21739ec2",
   "outputs": [
    {
     "name": "stdout",
     "output_type": "stream",
     "text": [
      "[[0 2 3]\n",
      " [4 0 6]\n",
      " [7 8 0]]\n"
     ]
    }
   ],
   "execution_count": 34
  },
  {
   "metadata": {
    "ExecuteTime": {
     "end_time": "2025-07-07T17:02:32.614384Z",
     "start_time": "2025-07-07T17:02:32.608389Z"
    }
   },
   "cell_type": "code",
   "source": [
    "ar = np.random.randint(1,17, (4,4))\n",
    "np.fill_diagonal(ar, 0)\n",
    "print(ar)"
   ],
   "id": "d30e86d6841eea24",
   "outputs": [
    {
     "name": "stdout",
     "output_type": "stream",
     "text": [
      "[[ 0  5  3  9]\n",
      " [16  0 16  7]\n",
      " [ 2  4  0  5]\n",
      " [10  2 10  0]]\n"
     ]
    }
   ],
   "execution_count": 39
  },
  {
   "metadata": {
    "ExecuteTime": {
     "end_time": "2025-07-07T18:11:16.093194Z",
     "start_time": "2025-07-07T18:11:16.090105Z"
    }
   },
   "cell_type": "code",
   "source": [
    "arr = np.arange(1,37).reshape(6,6)\n",
    "arr"
   ],
   "id": "990057fad496bc4a",
   "outputs": [
    {
     "data": {
      "text/plain": [
       "array([[ 1,  2,  3,  4,  5,  6],\n",
       "       [ 7,  8,  9, 10, 11, 12],\n",
       "       [13, 14, 15, 16, 17, 18],\n",
       "       [19, 20, 21, 22, 23, 24],\n",
       "       [25, 26, 27, 28, 29, 30],\n",
       "       [31, 32, 33, 34, 35, 36]])"
      ]
     },
     "execution_count": 55,
     "metadata": {},
     "output_type": "execute_result"
    }
   ],
   "execution_count": 55
  },
  {
   "metadata": {
    "ExecuteTime": {
     "end_time": "2025-07-07T18:10:42.299396Z",
     "start_time": "2025-07-07T18:10:42.297059Z"
    }
   },
   "cell_type": "code",
   "source": [
    "# 3rd to 5th rows and 2nd to 4th columns\n",
    "arr[2:5, 1:4]"
   ],
   "id": "4dc24424282ba129",
   "outputs": [
    {
     "data": {
      "text/plain": [
       "array([[14, 15, 16],\n",
       "       [20, 21, 22],\n",
       "       [26, 27, 28]])"
      ]
     },
     "execution_count": 53,
     "metadata": {},
     "output_type": "execute_result"
    }
   ],
   "execution_count": 53
  },
  {
   "metadata": {
    "ExecuteTime": {
     "end_time": "2025-07-07T18:14:34.732583Z",
     "start_time": "2025-07-07T18:14:34.729783Z"
    }
   },
   "cell_type": "code",
   "source": [
    "arr = np.random.rand(5,5)\n",
    "arr"
   ],
   "id": "38ea94ca30fbce71",
   "outputs": [
    {
     "data": {
      "text/plain": [
       "array([[0.57884874, 0.79744775, 0.66779429, 0.98099806, 0.06511674],\n",
       "       [0.20728326, 0.09344949, 0.82990998, 0.69897967, 0.2477586 ],\n",
       "       [0.37034993, 0.14910151, 0.26893536, 0.29909391, 0.37717212],\n",
       "       [0.35488725, 0.54934921, 0.65631337, 0.31337527, 0.32060064],\n",
       "       [0.64759336, 0.44494565, 0.87361985, 0.63494518, 0.25728211]])"
      ]
     },
     "execution_count": 60,
     "metadata": {},
     "output_type": "execute_result"
    }
   ],
   "execution_count": 60
  },
  {
   "metadata": {
    "ExecuteTime": {
     "end_time": "2025-07-07T18:28:36.598967Z",
     "start_time": "2025-07-07T18:28:36.595719Z"
    }
   },
   "cell_type": "code",
   "source": [
    "top_row = arr[0,:]\n",
    "bottom_row = arr[-1,:]\n",
    "left_col = arr[1:-1, 0]\n",
    "right_col = arr[1:-1, -1]\n",
    "np.concat([top_row, right_col, bottom_row[::-1], left_col[::-1]])"
   ],
   "id": "6680182058cfdf82",
   "outputs": [
    {
     "data": {
      "text/plain": [
       "array([0.57884874, 0.79744775, 0.66779429, 0.98099806, 0.06511674,\n",
       "       0.2477586 , 0.37717212, 0.32060064, 0.25728211, 0.63494518,\n",
       "       0.87361985, 0.44494565, 0.64759336, 0.35488725, 0.37034993,\n",
       "       0.20728326])"
      ]
     },
     "execution_count": 73,
     "metadata": {},
     "output_type": "execute_result"
    }
   ],
   "execution_count": 73
  },
  {
   "metadata": {
    "ExecuteTime": {
     "end_time": "2025-07-07T18:25:53.238696Z",
     "start_time": "2025-07-07T18:25:53.236185Z"
    }
   },
   "cell_type": "code",
   "source": "arr[1:-1, 0]",
   "id": "cf033b240cabcfe9",
   "outputs": [
    {
     "data": {
      "text/plain": [
       "array([0.20728326, 0.37034993, 0.35488725])"
      ]
     },
     "execution_count": 67,
     "metadata": {},
     "output_type": "execute_result"
    }
   ],
   "execution_count": 67
  },
  {
   "metadata": {
    "ExecuteTime": {
     "end_time": "2025-07-07T18:27:03.814617Z",
     "start_time": "2025-07-07T18:27:03.806178Z"
    }
   },
   "cell_type": "code",
   "source": "arr[1:-1, -1]",
   "id": "16e0ef923ee5735",
   "outputs": [
    {
     "data": {
      "text/plain": [
       "array([0.2477586 , 0.37717212, 0.32060064])"
      ]
     },
     "execution_count": 68,
     "metadata": {},
     "output_type": "execute_result"
    }
   ],
   "execution_count": 68
  },
  {
   "metadata": {
    "ExecuteTime": {
     "end_time": "2025-07-07T18:29:52.830676Z",
     "start_time": "2025-07-07T18:29:52.825559Z"
    }
   },
   "cell_type": "code",
   "source": [
    "arr = np.random.rand(3,4)\n",
    "arr"
   ],
   "id": "a2f87f5b3313195e",
   "outputs": [
    {
     "data": {
      "text/plain": [
       "array([[0.79378133, 0.88117442, 0.13028115, 0.93911155],\n",
       "       [0.18879301, 0.41093542, 0.1853425 , 0.14055122],\n",
       "       [0.37686755, 0.32210803, 0.36205436, 0.17036937]])"
      ]
     },
     "execution_count": 75,
     "metadata": {},
     "output_type": "execute_result"
    }
   ],
   "execution_count": 75
  },
  {
   "metadata": {
    "ExecuteTime": {
     "end_time": "2025-07-07T18:50:42.748536Z",
     "start_time": "2025-07-07T18:50:42.745440Z"
    }
   },
   "cell_type": "code",
   "source": [
    "first_row = arr[0,:]\n",
    "last_row = arr[-1, :]\n",
    "first_col = arr[:, 0]\n",
    "last_col = arr[:, -1]\n",
    "\n",
    "first_row * last_row\n",
    "first_row / last_row\n",
    "first_row - last_row\n",
    "first_row + last_row"
   ],
   "id": "9f8ac075d1c63be6",
   "outputs": [
    {
     "data": {
      "text/plain": [
       "array([1.17064888, 1.20328245, 0.4923355 , 1.10948092])"
      ]
     },
     "execution_count": 81,
     "metadata": {},
     "output_type": "execute_result"
    }
   ],
   "execution_count": 81
  },
  {
   "metadata": {
    "ExecuteTime": {
     "end_time": "2025-07-07T18:51:02.117342Z",
     "start_time": "2025-07-07T18:51:02.108522Z"
    }
   },
   "cell_type": "code",
   "source": [
    "first_col * last_col\n",
    "first_col / last_col\n",
    "first_col - last_col\n",
    "first_col + last_col"
   ],
   "id": "37fbd88329bbccea",
   "outputs": [
    {
     "data": {
      "text/plain": [
       "array([1.73289288, 0.32934424, 0.54723692])"
      ]
     },
     "execution_count": 82,
     "metadata": {},
     "output_type": "execute_result"
    }
   ],
   "execution_count": 82
  },
  {
   "metadata": {
    "ExecuteTime": {
     "end_time": "2025-07-07T18:51:24.667342Z",
     "start_time": "2025-07-07T18:51:24.660695Z"
    }
   },
   "cell_type": "code",
   "source": [
    "### Assignment 4: Statistical Operations\n",
    "\n",
    "# 1. Create a NumPy array of shape (5, 5) filled with random integers. Compute the mean, median, standard deviation, and variance of the array.\n",
    "# 2. Create a NumPy array of shape (3, 3) with values from 1 to 9. Normalize the array (i.e., scale the values to have a mean of 0 and a standard deviation of 1)."
   ],
   "id": "a2717496d33fc367",
   "outputs": [],
   "execution_count": 83
  },
  {
   "metadata": {
    "ExecuteTime": {
     "end_time": "2025-07-07T19:02:20.780381Z",
     "start_time": "2025-07-07T19:02:20.774028Z"
    }
   },
   "cell_type": "code",
   "source": [
    "arr = np.random.rand(5,5)\n",
    "np.mean(arr)\n",
    "# np.std(arr)\n",
    "# np.var(arr)\n",
    "# np.median(arr)"
   ],
   "id": "d4e09339af7fde4e",
   "outputs": [
    {
     "data": {
      "text/plain": [
       "np.float64(0.45982141208452176)"
      ]
     },
     "execution_count": 102,
     "metadata": {},
     "output_type": "execute_result"
    }
   ],
   "execution_count": 102
  },
  {
   "metadata": {
    "ExecuteTime": {
     "end_time": "2025-07-07T19:02:21.329464Z",
     "start_time": "2025-07-07T19:02:21.326076Z"
    }
   },
   "cell_type": "code",
   "source": [
    "arr = np.random.randint(1,10, (3,3))\n",
    "std = np.std(arr)\n",
    "var = np.var(arr)\n",
    "mean = np.mean(arr)"
   ],
   "id": "2826b625e8e10bc3",
   "outputs": [],
   "execution_count": 103
  },
  {
   "metadata": {
    "ExecuteTime": {
     "end_time": "2025-07-07T19:02:22.458139Z",
     "start_time": "2025-07-07T19:02:22.455587Z"
    }
   },
   "cell_type": "code",
   "source": [
    "normalized = (arr - mean) / std\n",
    "normalized"
   ],
   "id": "37feba3118f45d",
   "outputs": [
    {
     "data": {
      "text/plain": [
       "array([[ 1.94145069, -0.13867505, -0.97072534],\n",
       "       [-1.38675049,  0.2773501 ,  1.10940039],\n",
       "       [-0.13867505,  0.2773501 , -0.97072534]])"
      ]
     },
     "execution_count": 104,
     "metadata": {},
     "output_type": "execute_result"
    }
   ],
   "execution_count": 104
  },
  {
   "metadata": {
    "ExecuteTime": {
     "end_time": "2025-07-07T19:07:52.040295Z",
     "start_time": "2025-07-07T19:07:52.037019Z"
    }
   },
   "cell_type": "code",
   "source": [
    "arr = np.random.rand(3,3)\n",
    "arr_1d = np.array([1,3,5])\n",
    "arr + arr_1d"
   ],
   "id": "4902388d5c582fb6",
   "outputs": [
    {
     "data": {
      "text/plain": [
       "array([[1.45700769, 3.33203094, 5.61634446],\n",
       "       [1.82630116, 3.92609183, 5.74789829],\n",
       "       [1.69652009, 3.15521324, 5.37836883]])"
      ]
     },
     "execution_count": 110,
     "metadata": {},
     "output_type": "execute_result"
    }
   ],
   "execution_count": 110
  },
  {
   "metadata": {
    "ExecuteTime": {
     "end_time": "2025-07-07T19:08:36.097508Z",
     "start_time": "2025-07-07T19:08:36.094688Z"
    }
   },
   "cell_type": "code",
   "source": [
    "arr + arr_1d\n",
    "arr * arr_1d\n",
    "arr / arr_1d\n",
    "arr - arr_1d"
   ],
   "id": "5e33d6955b1592d3",
   "outputs": [
    {
     "data": {
      "text/plain": [
       "array([[-0.54299231, -2.66796906, -4.38365554],\n",
       "       [-0.17369884, -2.07390817, -4.25210171],\n",
       "       [-0.30347991, -2.84478676, -4.62163117]])"
      ]
     },
     "execution_count": 115,
     "metadata": {},
     "output_type": "execute_result"
    }
   ],
   "execution_count": 115
  },
  {
   "metadata": {
    "ExecuteTime": {
     "end_time": "2025-07-07T19:14:29.872375Z",
     "start_time": "2025-07-07T19:14:29.869608Z"
    }
   },
   "cell_type": "code",
   "source": [
    "arr = np.random.randint(1,10, (3,3))\n",
    "inverse = np.linalg.inv(arr)\n",
    "determinant = np.linalg.det(arr)\n",
    "eigenvalues, eigenvectors = np.linalg.eig(arr)\n",
    "print(eigenvalues)\n",
    "print(determinant)\n",
    "print(inverse)"
   ],
   "id": "a9e4a7e5b683ac09",
   "outputs": [
    {
     "name": "stdout",
     "output_type": "stream",
     "text": [
      "[15.08309326 -0.78367695 -3.29941631]\n",
      "38.99999999999999\n",
      "[[-1.07692308  0.69230769  1.15384615]\n",
      " [ 0.84615385 -0.61538462 -0.69230769]\n",
      " [-0.25641026  0.30769231  0.17948718]]\n"
     ]
    }
   ],
   "execution_count": 121
  },
  {
   "metadata": {
    "ExecuteTime": {
     "end_time": "2025-07-07T19:15:08.806922Z",
     "start_time": "2025-07-07T19:15:08.797241Z"
    }
   },
   "cell_type": "code",
   "source": "inverse * arr",
   "id": "e4eff493633b526",
   "outputs": [
    {
     "data": {
      "text/plain": [
       "array([[-4.30769231,  6.23076923, 10.38461538],\n",
       "       [ 0.84615385, -2.46153846, -6.23076923],\n",
       "       [-1.02564103,  1.84615385,  0.53846154]])"
      ]
     },
     "execution_count": 122,
     "metadata": {},
     "output_type": "execute_result"
    }
   ],
   "execution_count": 122
  },
  {
   "metadata": {
    "ExecuteTime": {
     "end_time": "2025-07-07T19:19:13.028085Z",
     "start_time": "2025-07-07T19:19:13.025596Z"
    }
   },
   "cell_type": "code",
   "source": "np.identity(2)",
   "id": "2473be32561ac71f",
   "outputs": [
    {
     "data": {
      "text/plain": [
       "array([[1., 0.],\n",
       "       [0., 1.]])"
      ]
     },
     "execution_count": 124,
     "metadata": {},
     "output_type": "execute_result"
    }
   ],
   "execution_count": 124
  },
  {
   "metadata": {
    "ExecuteTime": {
     "end_time": "2025-07-07T19:20:00.123233Z",
     "start_time": "2025-07-07T19:20:00.120681Z"
    }
   },
   "cell_type": "code",
   "source": "np.eye(5)",
   "id": "ab38766db0f5feec",
   "outputs": [
    {
     "data": {
      "text/plain": [
       "array([[1., 0., 0., 0., 0.],\n",
       "       [0., 1., 0., 0., 0.],\n",
       "       [0., 0., 1., 0., 0.],\n",
       "       [0., 0., 0., 1., 0.],\n",
       "       [0., 0., 0., 0., 1.]])"
      ]
     },
     "execution_count": 126,
     "metadata": {},
     "output_type": "execute_result"
    }
   ],
   "execution_count": 126
  },
  {
   "metadata": {
    "ExecuteTime": {
     "end_time": "2025-07-07T19:26:25.159707Z",
     "start_time": "2025-07-07T19:26:25.157161Z"
    }
   },
   "cell_type": "code",
   "source": "np.random.randint(1,10, (3,3)).reshape(1,9)",
   "id": "762c82b99f13f34a",
   "outputs": [
    {
     "data": {
      "text/plain": [
       "array([[2, 4, 7, 8, 6, 8, 2, 6, 9]])"
      ]
     },
     "execution_count": 128,
     "metadata": {},
     "output_type": "execute_result"
    }
   ],
   "execution_count": 128
  },
  {
   "metadata": {
    "ExecuteTime": {
     "end_time": "2025-07-07T20:01:34.034663Z",
     "start_time": "2025-07-07T20:01:34.026843Z"
    }
   },
   "cell_type": "code",
   "source": "np.random.randint(1,26,(5,5)).flatten().reshape(5,5)",
   "id": "815404d082f58554",
   "outputs": [
    {
     "data": {
      "text/plain": [
       "array([[ 1,  7,  6, 21, 23],\n",
       "       [18, 21, 20,  2, 23],\n",
       "       [12, 21, 19, 15, 22],\n",
       "       [ 2,  2, 16,  9, 14],\n",
       "       [15, 11, 19,  5, 25]])"
      ]
     },
     "execution_count": 131,
     "metadata": {},
     "output_type": "execute_result"
    }
   ],
   "execution_count": 131
  },
  {
   "metadata": {
    "ExecuteTime": {
     "end_time": "2025-07-07T21:16:35.080794Z",
     "start_time": "2025-07-07T21:16:35.075898Z"
    }
   },
   "cell_type": "code",
   "source": [
    "arr = np.random.rand(5,5)\n",
    "arr"
   ],
   "id": "f7592e82bd02576f",
   "outputs": [
    {
     "data": {
      "text/plain": [
       "array([[0.86343268, 0.82433578, 0.02610914, 0.99479208, 0.17865251],\n",
       "       [0.4007382 , 0.90538506, 0.95981418, 0.95740048, 0.81844716],\n",
       "       [0.66773764, 0.29665715, 0.82263739, 0.35250566, 0.83190419],\n",
       "       [0.52206659, 0.49319613, 0.62344742, 0.32897035, 0.02217182],\n",
       "       [0.8959749 , 0.14554842, 0.71041791, 0.18725907, 0.12864041]])"
      ]
     },
     "execution_count": 133,
     "metadata": {},
     "output_type": "execute_result"
    }
   ],
   "execution_count": 133
  },
  {
   "metadata": {
    "ExecuteTime": {
     "end_time": "2025-07-07T21:20:26.524685Z",
     "start_time": "2025-07-07T21:20:26.521161Z"
    }
   },
   "cell_type": "code",
   "source": [
    "row_corners = [0, 0, 4, 4]\n",
    "col_corners = [0, 4, 0, 4]\n",
    "arr[row_corners, col_corners]"
   ],
   "id": "f92ad3cfba46b453",
   "outputs": [
    {
     "data": {
      "text/plain": [
       "array([0.86343268, 0.17865251, 0.8959749 , 0.12864041])"
      ]
     },
     "execution_count": 135,
     "metadata": {},
     "output_type": "execute_result"
    }
   ],
   "execution_count": 135
  },
  {
   "metadata": {
    "ExecuteTime": {
     "end_time": "2025-07-07T21:21:47.400790Z",
     "start_time": "2025-07-07T21:21:47.398278Z"
    }
   },
   "cell_type": "code",
   "source": "arr[arr > 0.5]",
   "id": "e64d32792146f88a",
   "outputs": [
    {
     "data": {
      "text/plain": [
       "array([0.86343268, 0.82433578, 0.99479208, 0.90538506, 0.95981418,\n",
       "       0.95740048, 0.81844716, 0.66773764, 0.82263739, 0.83190419,\n",
       "       0.52206659, 0.62344742, 0.8959749 , 0.71041791])"
      ]
     },
     "execution_count": 138,
     "metadata": {},
     "output_type": "execute_result"
    }
   ],
   "execution_count": 138
  },
  {
   "metadata": {
    "ExecuteTime": {
     "end_time": "2025-07-07T21:30:29.118922Z",
     "start_time": "2025-07-07T21:30:29.113925Z"
    }
   },
   "cell_type": "code",
   "source": [
    "dtype = [('name','U10'), ('age','i4'), ('weight','f4')]\n",
    "\n",
    "data = np.array([\n",
    "    ('Alice', 25, 55.5),\n",
    "    ('Bob', 22, 70.2),\n",
    "    ('Charlie', 30, 68.3),\n",
    "    ('Diana', 23, 60.4)\n",
    "\n",
    "], dtype=dtype)\n",
    "\n",
    "np.sort(data, order='age')"
   ],
   "id": "5f0072cda44f0a20",
   "outputs": [
    {
     "data": {
      "text/plain": [
       "array([('Bob', 22, 70.2), ('Diana', 23, 60.4), ('Alice', 25, 55.5),\n",
       "       ('Charlie', 30, 68.3)],\n",
       "      dtype=[('name', '<U10'), ('age', '<i4'), ('weight', '<f4')])"
      ]
     },
     "execution_count": 140,
     "metadata": {},
     "output_type": "execute_result"
    }
   ],
   "execution_count": 140
  },
  {
   "metadata": {
    "ExecuteTime": {
     "end_time": "2025-07-07T21:35:28.696001Z",
     "start_time": "2025-07-07T21:35:28.693200Z"
    }
   },
   "cell_type": "code",
   "source": [
    "dtype = [('x','i4'), ('y','i4')]\n",
    "\n",
    "data = np.array([\n",
    "    (1, 2),\n",
    "    (4, 6),\n",
    "    (7, 8)\n",
    "],dtype=dtype\n",
    ")\n",
    "\n",
    "data.dtype"
   ],
   "id": "8fe10906f684fd7f",
   "outputs": [
    {
     "data": {
      "text/plain": [
       "dtype([('x', '<i4'), ('y', '<i4')])"
      ]
     },
     "execution_count": 146,
     "metadata": {},
     "output_type": "execute_result"
    }
   ],
   "execution_count": 146
  },
  {
   "metadata": {
    "ExecuteTime": {
     "end_time": "2025-07-07T21:34:40.117304Z",
     "start_time": "2025-07-07T21:34:40.110046Z"
    }
   },
   "cell_type": "code",
   "source": [
    "import numpy as np\n",
    "\n",
    "# Define the structured array dtype\n",
    "dtype = [('x', 'i4'), ('y', 'i4')]\n",
    "\n",
    "# Create the structured array with some points\n",
    "data = np.array([(1, 2), (4, 6), (7, 8)], dtype=dtype)\n",
    "\n",
    "print(\"Original Data (Points):\")\n",
    "print(data)\n",
    "\n",
    "# Extract the 'x' and 'y' fields\n",
    "x_coords = data['x']\n",
    "y_coords = data['y']\n",
    "\n",
    "# Compute the Euclidean distances between each pair of points\n",
    "n = len(data)\n",
    "distances = np.zeros((n, n))  # Create an empty matrix to store distances\n",
    "for i in range(n):\n",
    "    for j in range(n):\n",
    "        # Compute distance between points i and j\n",
    "        distances[i, j] = np.sqrt((x_coords[i] - x_coords[j])**2 + (y_coords[i] - y_coords[j])**2)\n",
    "\n",
    "print(\"\\nEuclidean Distance Matrix:\")\n",
    "print(distances)"
   ],
   "id": "fec6b41956beb442",
   "outputs": [
    {
     "name": "stdout",
     "output_type": "stream",
     "text": [
      "Original Data (Points):\n",
      "[(1, 2) (4, 6) (7, 8)]\n",
      "\n",
      "Euclidean Distance Matrix:\n",
      "[[0.         5.         8.48528137]\n",
      " [5.         0.         3.60555128]\n",
      " [8.48528137 3.60555128 0.        ]]\n"
     ]
    }
   ],
   "execution_count": 144
  },
  {
   "metadata": {},
   "cell_type": "code",
   "outputs": [],
   "execution_count": null,
   "source": "",
   "id": "7abe9c932179e973"
  }
 ],
 "metadata": {
  "kernelspec": {
   "display_name": "Python 3",
   "language": "python",
   "name": "python3"
  },
  "language_info": {
   "codemirror_mode": {
    "name": "ipython",
    "version": 2
   },
   "file_extension": ".py",
   "mimetype": "text/x-python",
   "name": "python",
   "nbconvert_exporter": "python",
   "pygments_lexer": "ipython2",
   "version": "2.7.6"
  }
 },
 "nbformat": 4,
 "nbformat_minor": 5
}
